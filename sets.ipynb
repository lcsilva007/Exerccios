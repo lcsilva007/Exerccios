{
  "nbformat": 4,
  "nbformat_minor": 0,
  "metadata": {
    "colab": {
      "name": "sets.ipynb",
      "provenance": [],
      "authorship_tag": "ABX9TyNaTCJD8PK7SQG3A9ta4PSL",
      "include_colab_link": true
    },
    "kernelspec": {
      "name": "python3",
      "display_name": "Python 3"
    },
    "language_info": {
      "name": "python"
    }
  },
  "cells": [
    {
      "cell_type": "markdown",
      "metadata": {
        "id": "view-in-github",
        "colab_type": "text"
      },
      "source": [
        "<a href=\"https://colab.research.google.com/github/lcsilva007/Exerc-cios_/blob/main/sets.ipynb\" target=\"_parent\"><img src=\"https://colab.research.google.com/assets/colab-badge.svg\" alt=\"Open In Colab\"/></a>"
      ]
    },
    {
      "cell_type": "code",
      "execution_count": 23,
      "metadata": {
        "id": "2B2FbgeOFP3P"
      },
      "outputs": [],
      "source": [
        "\n"
      ]
    },
    {
      "cell_type": "code",
      "source": [
        ""
      ],
      "metadata": {
        "id": "RXDhGavAGQbR"
      },
      "execution_count": 23,
      "outputs": []
    },
    {
      "cell_type": "code",
      "source": [
        "\"\"\"\n",
        "-> É uma lista de listas de números inteiros\n",
        "-> As listas internas tem o tamanho de 10 elementos\n",
        "-> As listas internas contém números entre 1 a 10 e eles podem ser duplicados\n",
        "Exercício\n",
        "-> Crie uma função que encontra o primeiro duplicado considerando o segundo\n",
        "    número como a duplicação. Retorne a duplicação considerada.\n",
        "        Requisitos:\n",
        "            A ordem do número duplicado é considerada a partir da segunda\n",
        "            ocorrência do número, ou seja, o número duplicado em si.\n",
        "            Exemplo:\n",
        "                [1, 2, 3, ->3<-, 2, 1] -> 1, 2 e 3 são duplicados (retorne 3)\n",
        "                [1, 2, 3, 4, 5, 6] -> Retorne -1 (não tem duplicados)\n",
        "            Se não encontrar duplicados na lista, retorne -1\n",
        "\"\"\"\n",
        "lista_de_listas_de_inteiros = [\n",
        "    [1, 2, 3, 4, 5, 6, 7, 8, 9, 10],\n",
        "    [9, 1, 8, 9, 9, 7, 2, 1, 6, 8],\n",
        "    [1, 3, 2, 2, 8, 6, 5, 9, 6, 7],\n",
        "    [3, 8, 2, 8, 6, 7, 7, 3, 1, 9],\n",
        "    [4, 8, 8, 8, 5, 1, 10, 3, 1, 7],\n",
        "    [1, 3, 7, 2, 2, 1, 5, 1, 9, 9],\n",
        "    [10, 2, 2, 1, 3, 5, 10, 5, 10, 1],\n",
        "    [1, 6, 1, 5, 1, 1, 1, 4, 7, 3],\n",
        "    [1, 3, 7, 1, 10, 5, 9, 2, 5, 7],\n",
        "    [4, 7, 6, 5, 2, 9, 2, 1, 2, 1],\n",
        "    [5, 3, 1, 8, 5, 7, 1, 8, 8, 7],\n",
        "    [10, 9, 8, 7, 6, 5, 4, 3, 2, 1],\n",
        "]\n",
        "\n",
        "\n",
        "def encontra_primeiro_duplicado(param_lista_de_inteiros):\n",
        "    numeros_checados = set()\n",
        "    primeiro_duplicado = -1\n",
        "\n",
        "    for numero in param_lista_de_inteiros:\n",
        "        if numero in numeros_checados:\n",
        "            primeiro_duplicado = numero\n",
        "            break\n",
        "\n",
        "        numeros_checados.add(numero)\n",
        "\n",
        "    return primeiro_duplicado\n",
        "\n",
        "\n",
        "for lista_de_inteiros in lista_de_listas_de_inteiros:\n",
        "    print(lista_de_inteiros, encontra_primeiro_duplicado(lista_de_inteiros))"
      ],
      "metadata": {
        "id": "6SnuFAw-IxR7",
        "colab": {
          "base_uri": "https://localhost:8080/"
        },
        "outputId": "0609e03f-6478-4abe-e0a3-b67353b00e41"
      },
      "execution_count": 24,
      "outputs": [
        {
          "output_type": "stream",
          "name": "stdout",
          "text": [
            "[1, 2, 3, 4, 5, 6, 7, 8, 9, 10] -1\n",
            "[9, 1, 8, 9, 9, 7, 2, 1, 6, 8] 9\n",
            "[1, 3, 2, 2, 8, 6, 5, 9, 6, 7] 2\n",
            "[3, 8, 2, 8, 6, 7, 7, 3, 1, 9] 8\n",
            "[4, 8, 8, 8, 5, 1, 10, 3, 1, 7] 8\n",
            "[1, 3, 7, 2, 2, 1, 5, 1, 9, 9] 2\n",
            "[10, 2, 2, 1, 3, 5, 10, 5, 10, 1] 2\n",
            "[1, 6, 1, 5, 1, 1, 1, 4, 7, 3] 1\n",
            "[1, 3, 7, 1, 10, 5, 9, 2, 5, 7] 1\n",
            "[4, 7, 6, 5, 2, 9, 2, 1, 2, 1] 2\n",
            "[5, 3, 1, 8, 5, 7, 1, 8, 8, 7] 5\n",
            "[10, 9, 8, 7, 6, 5, 4, 3, 2, 1] -1\n"
          ]
        }
      ]
    }
  ]
}