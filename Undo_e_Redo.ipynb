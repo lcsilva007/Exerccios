{
  "nbformat": 4,
  "nbformat_minor": 0,
  "metadata": {
    "colab": {
      "name": "Undo e Redo.ipynb",
      "provenance": [],
      "authorship_tag": "ABX9TyPLlSW+4Y2bsmjSfe6viEP5",
      "include_colab_link": true
    },
    "kernelspec": {
      "name": "python3",
      "display_name": "Python 3"
    },
    "language_info": {
      "name": "python"
    }
  },
  "cells": [
    {
      "cell_type": "markdown",
      "metadata": {
        "id": "view-in-github",
        "colab_type": "text"
      },
      "source": [
        "<a href=\"https://colab.research.google.com/github/lcsilva007/Exerccios/blob/main/Undo_e_Redo.ipynb\" target=\"_parent\"><img src=\"https://colab.research.google.com/assets/colab-badge.svg\" alt=\"Open In Colab\"/></a>"
      ]
    },
    {
      "cell_type": "code",
      "execution_count": 1,
      "metadata": {
        "colab": {
          "base_uri": "https://localhost:8080/",
          "height": 53
        },
        "id": "bcj3dbzlkQ2D",
        "outputId": "363cb684-36ae-43d9-972a-f3661e667bb2"
      },
      "outputs": [
        {
          "output_type": "execute_result",
          "data": {
            "text/plain": [
              "\"\\nFaça uma lista de tarefas com as seguintes opções:\\n    adicionar tarefa\\n    listar tarefas\\n    opção de desfazer (a cada vez que chamarmos, desfaz a última ação)\\n    opção de refazer (a cada vez que chamarmos, refaz a última ação)\\n    ['Tarefa 1', 'Tarefa 2']\\n    ['Tarefa 1'] <- Desfazer\\n    ['Tarefa 1', 'Tarefa 2'] <- Refazer\\n    input <- Nova tarefa\\n\""
            ],
            "application/vnd.google.colaboratory.intrinsic+json": {
              "type": "string"
            }
          },
          "metadata": {},
          "execution_count": 1
        }
      ],
      "source": [
        "\"\"\"\n",
        "Faça uma lista de tarefas com as seguintes opções:\n",
        "    adicionar tarefa\n",
        "    listar tarefas\n",
        "    opção de desfazer (a cada vez que chamarmos, desfaz a última ação)\n",
        "    opção de refazer (a cada vez que chamarmos, refaz a última ação)\n",
        "    ['Tarefa 1', 'Tarefa 2']\n",
        "    ['Tarefa 1'] <- Desfazer\n",
        "    ['Tarefa 1', 'Tarefa 2'] <- Refazer\n",
        "    input <- Nova tarefa\n",
        "\"\"\""
      ]
    },
    {
      "cell_type": "code",
      "source": [
        "def show_op(todo_list):\n",
        "    print()\n",
        "    print('Tarefas: ')\n",
        "    print(todo_list)\n",
        "    print()\n",
        "\n",
        "\n",
        "def do_undo(todo_list, redo_list):\n",
        "    if not todo_list:\n",
        "        print('Nada a desfazer')\n",
        "        return\n",
        "\n",
        "    last_todo = todo_list.pop()\n",
        "    redo_list.append(last_todo)\n",
        "\n",
        "\n",
        "def do_redo(todo_list, redo_list):\n",
        "    if not redo_list:\n",
        "        print('Nada a refazer')\n",
        "        return\n",
        "\n",
        "    last_redo = redo_list.pop()\n",
        "    todo_list.append(last_redo)\n",
        "\n",
        "\n",
        "def do_add(todo, todo_list):\n",
        "    todo_list.append(todo)\n",
        "\n",
        "\n",
        "if __name__ == '__main__':\n",
        "    todo_list = []\n",
        "    redo_list = []\n",
        "\n",
        "    while True:\n",
        "        todo = input('Digite uma tarefa ou undo, redo, ls: ')\n",
        "\n",
        "        if todo == 'ls':\n",
        "            show_op(todo_list)\n",
        "            continue\n",
        "        elif todo == 'undo':\n",
        "            do_undo(todo_list, redo_list)\n",
        "            continue\n",
        "        elif todo == 'redo':\n",
        "            do_redo(todo_list, redo_list)\n",
        "            continue\n",
        "\n",
        "        do_add(todo, todo_list)"
      ],
      "metadata": {
        "id": "ZOwVPyq4kVsf"
      },
      "execution_count": null,
      "outputs": []
    },
    {
      "cell_type": "code",
      "source": [
        ""
      ],
      "metadata": {
        "id": "3L9zDMMrkncX"
      },
      "execution_count": null,
      "outputs": []
    }
  ]
}