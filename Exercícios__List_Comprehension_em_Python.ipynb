{
  "nbformat": 4,
  "nbformat_minor": 0,
  "metadata": {
    "colab": {
      "name": "Exercícios_ List Comprehension em Python.ipynb",
      "provenance": [],
      "authorship_tag": "ABX9TyOwdLQVQRF/JTdBkvjIMGCq",
      "include_colab_link": true
    },
    "kernelspec": {
      "name": "python3",
      "display_name": "Python 3"
    },
    "language_info": {
      "name": "python"
    }
  },
  "cells": [
    {
      "cell_type": "markdown",
      "metadata": {
        "id": "view-in-github",
        "colab_type": "text"
      },
      "source": [
        "<a href=\"https://colab.research.google.com/github/lcsilva007/Exerc-cios_/blob/main/Exerc%C3%ADcios__List_Comprehension_em_Python.ipynb\" target=\"_parent\"><img src=\"https://colab.research.google.com/assets/colab-badge.svg\" alt=\"Open In Colab\"/></a>"
      ]
    },
    {
      "cell_type": "code",
      "execution_count": 1,
      "metadata": {
        "id": "bchDMY1MjiBM"
      },
      "outputs": [],
      "source": [
        "string = '0123456789012345678901234567890123456789012345678901234567890123456789'"
      ]
    },
    {
      "cell_type": "code",
      "source": [
        "n = 10\n",
        "lista = [string[i:i + n] for i in range(0, len(string), n)]"
      ],
      "metadata": {
        "id": "lNn0v7QAkhFD"
      },
      "execution_count": 17,
      "outputs": []
    },
    {
      "cell_type": "code",
      "source": [
        "retorno = '.'.join(lista)\n",
        "print(lista)\n",
        "print(retorno)"
      ],
      "metadata": {
        "colab": {
          "base_uri": "https://localhost:8080/"
        },
        "id": "vO6vWDYElqM3",
        "outputId": "c962f698-926b-4dad-bfb3-0c8dda86e741"
      },
      "execution_count": 18,
      "outputs": [
        {
          "output_type": "stream",
          "name": "stdout",
          "text": [
            "['0123456789', '0123456789', '0123456789', '0123456789', '0123456789', '0123456789', '0123456789']\n",
            "0123456789.0123456789.0123456789.0123456789.0123456789.0123456789.0123456789\n"
          ]
        }
      ]
    },
    {
      "cell_type": "code",
      "source": [
        ""
      ],
      "metadata": {
        "id": "9ZRLVs0inx6J"
      },
      "execution_count": null,
      "outputs": []
    }
  ]
}