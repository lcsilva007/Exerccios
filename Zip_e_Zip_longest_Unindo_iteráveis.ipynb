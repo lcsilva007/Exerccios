{
  "nbformat": 4,
  "nbformat_minor": 0,
  "metadata": {
    "colab": {
      "name": " Zip e Zip_longest - Unindo iteráveis.ipynb",
      "provenance": [],
      "authorship_tag": "ABX9TyMVFkUR601Kb9nin8snjMkx",
      "include_colab_link": true
    },
    "kernelspec": {
      "name": "python3",
      "display_name": "Python 3"
    },
    "language_info": {
      "name": "python"
    }
  },
  "cells": [
    {
      "cell_type": "markdown",
      "metadata": {
        "id": "view-in-github",
        "colab_type": "text"
      },
      "source": [
        "<a href=\"https://colab.research.google.com/github/lcsilva007/Exerccios/blob/main/Zip_e_Zip_longest_Unindo_iter%C3%A1veis.ipynb\" target=\"_parent\"><img src=\"https://colab.research.google.com/assets/colab-badge.svg\" alt=\"Open In Colab\"/></a>"
      ]
    },
    {
      "cell_type": "code",
      "execution_count": 9,
      "metadata": {
        "colab": {
          "base_uri": "https://localhost:8080/"
        },
        "id": "jjGB4QiCaNJr",
        "outputId": "964d8427-fb89-44e8-b912-80695121a17b"
      },
      "outputs": [
        {
          "output_type": "stream",
          "name": "stdout",
          "text": [
            "('são paulo', 'SP')\n",
            "('Belo Horizonte', 'MG')\n",
            "('Salvador', 'BA')\n"
          ]
        }
      ],
      "source": [
        "cidades = ['são paulo', 'Belo Horizonte', 'Salvador', 'Monte Belo']\n",
        "estados = ['SP', 'MG', 'BA']\n",
        "\n",
        "cidades_estados = zip(cidades, estados)\n",
        "\n",
        "for valor in cidades_estados:\n",
        "    print(valor)"
      ]
    },
    {
      "cell_type": "code",
      "source": [
        "cidades_estados = zip(estados, cidades, fillvalue='Estado')\n",
        "print(list(cidades_estados))"
      ],
      "metadata": {
        "colab": {
          "base_uri": "https://localhost:8080/"
        },
        "id": "QjUZHtd2fS4N",
        "outputId": "d998363c-f0f4-4ee3-abd0-55064ce2f85d"
      },
      "execution_count": 11,
      "outputs": [
        {
          "output_type": "stream",
          "name": "stdout",
          "text": [
            "[('SP', 'são paulo'), ('MG', 'Belo Horizonte'), ('BA', 'Salvador')]\n"
          ]
        }
      ]
    },
    {
      "cell_type": "code",
      "source": [
        "lista_a = [1, 2, 3, 4, 5, 6, 7]\n",
        "lista_b = [1, 2, 3, 4 ]\n",
        "\n",
        "soma_lista = [x + y for x, y in zip(lista_a, lista_b)]\n",
        "print(soma_lista)"
      ],
      "metadata": {
        "colab": {
          "base_uri": "https://localhost:8080/"
        },
        "id": "l9SiMGbgykBH",
        "outputId": "4f7b06ec-eb91-41d9-9d86-1e9617cc4b71"
      },
      "execution_count": 15,
      "outputs": [
        {
          "output_type": "stream",
          "name": "stdout",
          "text": [
            "[2, 4, 6, 8]\n"
          ]
        }
      ]
    },
    {
      "cell_type": "code",
      "source": [
        ""
      ],
      "metadata": {
        "id": "gQ9FkLjs-c67"
      },
      "execution_count": null,
      "outputs": []
    },
    {
      "cell_type": "code",
      "source": [
        ""
      ],
      "metadata": {
        "id": "ZvYTTDfu-76s"
      },
      "execution_count": null,
      "outputs": []
    }
  ]
}