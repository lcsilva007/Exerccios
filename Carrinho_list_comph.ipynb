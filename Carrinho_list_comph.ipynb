{
  "nbformat": 4,
  "nbformat_minor": 0,
  "metadata": {
    "colab": {
      "name": "Carrinho_list_comph.ipynb",
      "provenance": [],
      "authorship_tag": "ABX9TyPsQlCsJNXhw1jj4xkpjkkk",
      "include_colab_link": true
    },
    "kernelspec": {
      "name": "python3",
      "display_name": "Python 3"
    },
    "language_info": {
      "name": "python"
    }
  },
  "cells": [
    {
      "cell_type": "markdown",
      "metadata": {
        "id": "view-in-github",
        "colab_type": "text"
      },
      "source": [
        "<a href=\"https://colab.research.google.com/github/lcsilva007/Exerc-cios_/blob/main/Carrinho_list_comph.ipynb\" target=\"_parent\"><img src=\"https://colab.research.google.com/assets/colab-badge.svg\" alt=\"Open In Colab\"/></a>"
      ]
    },
    {
      "cell_type": "code",
      "execution_count": 7,
      "metadata": {
        "colab": {
          "base_uri": "https://localhost:8080/"
        },
        "id": "jjGB4QiCaNJr",
        "outputId": "ab6da1f0-db3d-4f5c-de47-43f111d8b81b"
      },
      "outputs": [
        {
          "output_type": "stream",
          "name": "stdout",
          "text": [
            "100.0\n"
          ]
        }
      ],
      "source": [
        "carrinho = []\n",
        "\n",
        "carrinho.append(('Produto 1', 30))\n",
        "carrinho.append(('Produto 2', 20))\n",
        "carrinho.append(('Produto 3', 50))\n",
        "\n",
        "total = 0\n",
        "\n",
        "'''\n",
        "for produto in carrinho:\n",
        "    total += produto[1]\n",
        "print(total)\n",
        "'''\n",
        "\n",
        "total = sum([float(y) for x, y in carrinho])\n",
        "print(total)"
      ]
    },
    {
      "cell_type": "code",
      "source": [
        ""
      ],
      "metadata": {
        "id": "QjUZHtd2fS4N"
      },
      "execution_count": null,
      "outputs": []
    }
  ]
}